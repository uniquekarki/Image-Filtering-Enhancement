{
 "cells": [
  {
   "cell_type": "markdown",
   "metadata": {},
   "source": [
    "# Median Blur"
   ]
  },
  {
   "cell_type": "markdown",
   "metadata": {},
   "source": [
    "### Working Mechanism of Median Blur"
   ]
  },
  {
   "cell_type": "markdown",
   "metadata": {},
   "source": [
    "#### Step 1: Kernel Creation"
   ]
  },
  {
   "cell_type": "markdown",
   "metadata": {},
   "source": [
    "```py\n",
    "import cv2\n",
    "\n",
    "image = cv2.imread('Path/To/Image.jpg')\n",
    "blurred_image = cv2.medianBlur(image, 3)\n",
    "```"
   ]
  },
  {
   "cell_type": "markdown",
   "metadata": {},
   "source": [
    "- In the above code, the 'medianBlur' method takes in 2 arguments:\n",
    "    - image\n",
    "    - kernel size"
   ]
  },
  {
   "cell_type": "markdown",
   "metadata": {},
   "source": [
    "- a square matrix of dimension specified in the code is created\n",
    "\n",
    "\\begin{bmatrix}\n",
    "1 & 1 & 1 \\\\\n",
    "1 & 1 & 1 \\\\\n",
    "1 & 1 & 1\n",
    "\\end{bmatrix}"
   ]
  },
  {
   "cell_type": "markdown",
   "metadata": {},
   "source": [
    "#### Step 2: Sliding Window"
   ]
  },
  {
   "cell_type": "markdown",
   "metadata": {},
   "source": [
    "- The center of the kernel is aligned with the pixel of concern.\n",
    "\n",
    "\\begin{bmatrix}\n",
    "120 & 50 & 80 \\\\\n",
    "200 & 10 & 30 \\\\\n",
    "90 & 50 & 70\n",
    "\\end{bmatrix}"
   ]
  },
  {
   "cell_type": "markdown",
   "metadata": {},
   "source": [
    "- 1 dimentional array is created of the elements that is overlapped by the kernel.\n",
    "\n",
    "    1D array: [120, 50, 80, 200, 10, 30, 90, 50, 70]"
   ]
  },
  {
   "cell_type": "markdown",
   "metadata": {},
   "source": [
    "- The array is sorted.\n",
    "\n",
    "    Sorted array: [10, 30, 50, 70, 80, 90, 120, 150, 200]"
   ]
  },
  {
   "cell_type": "markdown",
   "metadata": {},
   "source": [
    "- The median is calculated.\n",
    "\n",
    "    Median: 80"
   ]
  },
  {
   "cell_type": "markdown",
   "metadata": {},
   "source": [
    "- The value of the pixel at the center is replaced with the median\n",
    "\n",
    "\\begin{bmatrix}\n",
    "120 & 50 & 80 \\\\\n",
    "200 & 80 & 30 \\\\\n",
    "90 & 50 & 70\n",
    "\\end{bmatrix}"
   ]
  },
  {
   "cell_type": "markdown",
   "metadata": {},
   "source": [
    "\n",
    "- The kernel is shifted one position to the right and the process is repeated."
   ]
  },
  {
   "cell_type": "markdown",
   "metadata": {},
   "source": [
    "#### Step 3: Border Handling"
   ]
  },
  {
   "cell_type": "markdown",
   "metadata": {},
   "source": [
    "Border handling techniques are to be employed to the pixels where the kernel extends beyond the boundary of the image. Some of the common border handling techniques include:\n",
    "\n",
    "- Zero Padding: Adding zero values to the image border to extend its size before performing convolution.\n",
    "\n",
    "- Mirror Padding: Reflecting the image values across its edges to simulate continuity.\n",
    "\n",
    "- Wraparound Padding: Wrapping the image values around its edges to create a seamless transition."
   ]
  },
  {
   "cell_type": "markdown",
   "metadata": {},
   "source": [
    "### Result:"
   ]
  },
  {
   "cell_type": "markdown",
   "metadata": {},
   "source": [
    "- It reduces impulse nouse like salt and pepper noise.\n",
    "\n",
    "- Unline Gaussian blur, it preserves the details.\n",
    "\n",
    "- It handles isolated dark and bright pixels.\n",
    "\n",
    "- It produces result which is less affected by outliers.\n",
    "\n",
    "- It is used where image sharpness is crucial.\n",
    "\n",
    "- Larger kernels: Stronger noise reduction but blurs the details.\n",
    "\n",
    "- Smaller kernels: Weak noise reduction but preserves the details."
   ]
  },
  {
   "cell_type": "markdown",
   "metadata": {},
   "source": [
    "Result Image:\n",
    "\n",
    "![Median Filter Output](../images/Median_filter_output.jpg)"
   ]
  }
 ],
 "metadata": {
  "language_info": {
   "name": "python"
  }
 },
 "nbformat": 4,
 "nbformat_minor": 2
}
