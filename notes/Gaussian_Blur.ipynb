{
 "cells": [
  {
   "cell_type": "markdown",
   "metadata": {},
   "source": [
    "# Gaussian Blur"
   ]
  },
  {
   "cell_type": "markdown",
   "metadata": {},
   "source": [
    "### Working mechanism of Gaussian Blur:"
   ]
  },
  {
   "cell_type": "markdown",
   "metadata": {},
   "source": [
    "#### Step 1: Kernel Creation"
   ]
  },
  {
   "cell_type": "markdown",
   "metadata": {},
   "source": [
    "Kernel refers to the matrix of weights that determines how to neighboring pixel contributes to the pixel intensity of the pixel on which the operation is being applied. Let us breakdown the code."
   ]
  },
  {
   "cell_type": "markdown",
   "metadata": {},
   "source": [
    "Gaussian Formula:\n",
    "\n",
    "$$\n",
    "G(x, y) = \\frac{1}{2\\pi\\sigma^2} \\cdot e^{-\\frac{x^2 + y^2}{2\\sigma^2}}\n",
    "$$\n",
    "\n",
    "Where:\n",
    "$$\n",
    "\\begin{align*}\n",
    "& - G(x, y) \\text{ is the value of the Gaussian function at position } (x, y). \\\\\n",
    "& - x \\text{ and } y \\text{ are the horizontal and vertical distances from the center of the kernel, respectively.} \\\\\n",
    "& - \\pi \\text{ is the mathematical constant pi (approximately 3.14159).} \\\\\n",
    "& - \\sigma \\text{ is the standard deviation of the Gaussian distribution.} \\\\\n",
    "& - e \\text{ is the base of the natural logarithm, approximately equal to 2.71828.}\n",
    "\\end{align*}\n",
    "$$"
   ]
  },
  {
   "cell_type": "markdown",
   "metadata": {},
   "source": [
    "```py\n",
    "import cv2\n",
    "\n",
    "image = cv2.imread('Path/To/Image.jpg')\n",
    "blurred_image = cv2.GaussianBlur(image, (3,3), 1.5)\n",
    "```"
   ]
  },
  {
   "cell_type": "markdown",
   "metadata": {},
   "source": [
    "i. In the above codeblock, the GaussianBlur method takes in 3 parameters as input:\n",
    "\n",
    "* Input image\n",
    "\n",
    "* (x,y) dimensions of the kernel matrix\n",
    "\n",
    "* Sigma value which controls the blurring strength"
   ]
  },
  {
   "cell_type": "markdown",
   "metadata": {},
   "source": [
    "ii. Zero matrix of size (x,y) = (3,3) is created\n",
    "\n",
    "\\begin{bmatrix}\n",
    "0 & 0 & 0 \\\\\n",
    "0 & 0 & 0 \\\\\n",
    "0 & 0 & 0\n",
    "\\end{bmatrix}"
   ]
  },
  {
   "cell_type": "markdown",
   "metadata": {},
   "source": [
    "iii. For each element in the matrix, values are computed using the Gaussian formula.\n",
    "\n",
    "Here we take the value of σ = 1.5 from the codeblock.\n",
    "\n"
   ]
  },
  {
   "cell_type": "markdown",
   "metadata": {},
   "source": [
    "iv. The values are normalized to obtain the new values for the kernel matrix:\n",
    "\n",
    "\\begin{bmatrix}\n",
    "0.0585 & 0.0965 & 0.0585 \\\\\n",
    "0.0965 & 0.1592 & 0.0965 \\\\\n",
    "0.0585 & 0.0965 & 0.0585 \\\\\n",
    "\\end{bmatrix}"
   ]
  },
  {
   "cell_type": "markdown",
   "metadata": {},
   "source": [
    "#### Step 2: Sliding Window"
   ]
  },
  {
   "cell_type": "markdown",
   "metadata": {},
   "source": [
    "i. The center of the kernel is aligned with the pixel of concern.\n",
    "\n",
    "ii. Convolution operation is performed to update the value of the pixel.\n",
    "\n",
    "iii. The kernel is then shifted one place to the right.\n",
    "\n",
    "iv. This process is continued till all of the pixel values are updated."
   ]
  },
  {
   "cell_type": "markdown",
   "metadata": {},
   "source": [
    "#### Step 3: Border Handling"
   ]
  },
  {
   "cell_type": "markdown",
   "metadata": {},
   "source": [
    "Border handling techniques are to be employed to the pixels where the kernel extends beyond the boundary of the image. Some of the common border handling techniques include:\n",
    "\n",
    "- Zero Padding: Adding zero values to the image border to extend its size before performing convolution.\n",
    "\n",
    "- Mirror Padding: Reflecting the image values across its edges to simulate continuity.\n",
    "\n",
    "- Wraparound Padding: Wrapping the image values around its edges to create a seamless transition."
   ]
  },
  {
   "cell_type": "markdown",
   "metadata": {},
   "source": [
    "#### Step 4: Convolution"
   ]
  },
  {
   "cell_type": "markdown",
   "metadata": {},
   "source": [
    "Kernel:\n",
    "\n",
    "\\begin{bmatrix}\n",
    "0.0585 & 0.0965 & 0.0585 \\\\\n",
    "0.0965 & 0.1592 & 0.0965 \\\\\n",
    "0.0585 & 0.0965 & 0.0585 \\\\\n",
    "\\end{bmatrix}\n",
    "\n",
    "Pixel Matrix:\n",
    "\n",
    "\\begin{bmatrix}\n",
    "a & b & c \\\\\n",
    "d & e & f \\\\\n",
    "g & h & i \\\\\n",
    "\\end{bmatrix}"
   ]
  },
  {
   "cell_type": "markdown",
   "metadata": {},
   "source": [
    "The pixel of concern i.e. 'e' is aligned with the center of the Gaussian Kernel\n",
    "\n",
    "After applying the Gaussian kernel, the filtered value of pixel e would be computed as:\n",
    "\n",
    "```\n",
    "e' = (a×0.0585)+(b×0.0965)+(c×0.0585)+(d×0.0965)+(e×0.1592)+(f×0.0965)+(g×0.0585)+(h×0.0965)+(i×0.0585)\n",
    "```"
   ]
  },
  {
   "cell_type": "markdown",
   "metadata": {},
   "source": [
    "### Result:"
   ]
  },
  {
   "cell_type": "markdown",
   "metadata": {},
   "source": [
    "- The convolution based on the Gaussian kernel averages the pixel values in the neighborhood of each pixels.\n",
    "\n",
    "- It smooths out rapid intensity changes between neighboring pixels\n",
    "\n",
    "- High Frequency components such as noise/fine details are supressed/blurred for smoother appearance"
   ]
  },
  {
   "cell_type": "markdown",
   "metadata": {},
   "source": [
    "Result Image:\n",
    "\n",
    "<img src=\"../images/Gaussian_blur_output.jpg\" alt=\"Gaussian Blur Output\" width=\"550\" height=\"400\">"
   ]
  }
 ],
 "metadata": {
  "language_info": {
   "name": "python"
  }
 },
 "nbformat": 4,
 "nbformat_minor": 2
}
