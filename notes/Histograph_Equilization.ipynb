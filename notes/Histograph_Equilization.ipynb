{
 "cells": [
  {
   "cell_type": "markdown",
   "metadata": {},
   "source": [
    "# Histogram Equalization"
   ]
  },
  {
   "cell_type": "markdown",
   "metadata": {},
   "source": [
    "### Working Principle"
   ]
  },
  {
   "cell_type": "markdown",
   "metadata": {},
   "source": [
    "Histogram Equalization is a method in image processing used to enhance the contrast of an image. The core idea is to redistribute the pixel intensity values so that they span the entire range of possible values, which leads to a more uniformly distributed histogram. This can make features in the image more distinguishable."
   ]
  },
  {
   "cell_type": "markdown",
   "metadata": {},
   "source": [
    "#### Steps Involved in Histogram Equalization\n",
    "1. Calculate the Histogram:\n",
    "\n",
    "    Determine the frequency of each pixel intensity value in the image.\n",
    "\n",
    "2. Compute the Cumulative Distribution Function (CDF):\n",
    "\n",
    "    Compute the cumulative sum of the histogram values, which gives the cumulative distribution function (CDF).\n",
    "\n",
    "3. Normalize the CDF:\n",
    "\n",
    "    Normalize the CDF to scale it to the range of pixel values (0 to 255 for an 8-bit image).\n",
    "\n",
    "4. Map the old pixel values to new values:\n",
    "\n",
    "    Use the normalized CDF to remap the old pixel values to the new pixel values."
   ]
  },
  {
   "cell_type": "markdown",
   "metadata": {},
   "source": [
    "#### Detailed Example Using a 3x3 Pixel Array\n",
    "\n",
    "Consider a 3x3 grayscale image with the following pixel values:\n",
    "\n",
    "\\begin{bmatrix}\n",
    "52 & 55 & 61 \\\\\n",
    "59 & 55 & 65 \\\\\n",
    "55 & 62 & 68\n",
    "\\end{bmatrix}"
   ]
  },
  {
   "cell_type": "markdown",
   "metadata": {},
   "source": [
    "1. Calculate the Histogram:\n",
    "\n",
    "Find the frequency of each intensity value.\n",
    "\n",
    "| Intensity    | Frequency |\n",
    "| --------     | -------   |\n",
    "| 52           | 1         |\n",
    "| 55           | 3         |\n",
    "| 59           | 1         |\n",
    "| 61           | 1         |\n",
    "| 62           | 1         |\n",
    "| 65           | 1         |\n",
    "| 68           | 1         |\n"
   ]
  },
  {
   "cell_type": "markdown",
   "metadata": {},
   "source": [
    "1. Compute the CDF:\n",
    "\n",
    "Calculate the cumulative sum of the histogram frequencies.\n",
    "\n",
    "| Intensity    | Frequency | CDF      |\n",
    "| --------     | -------   | -------  |\n",
    "| 52           | 1         | 1        |\n",
    "| 55           | 3         | 4        |\n",
    "| 59           | 1         | 5        |\n",
    "| 61           | 1         | 6        |\n",
    "| 62           | 1         | 7        |\n",
    "| 65           | 1         | 8        |\n",
    "| 68           | 1         | 9        |\n"
   ]
  },
  {
   "cell_type": "markdown",
   "metadata": {},
   "source": [
    "3. Normalize the CDF:\n",
    "\n",
    "- Normalize the CDF to scale between 0 and 255.\n",
    "\n",
    "$$\n",
    "CDF\\_normalized = \\frac{CDF - CDF_{min}}{N - 1} \\times (L - 1)\n",
    "$$\n",
    "\n",
    "where 𝑁 is the number of pixels (9 in this case) and 𝐿 is the number of possible intensity levels (256 for an 8-bit image).\n",
    "\n",
    "- Minimum CDF value, CDFmin = 1\n",
    "\n",
    "| Intensity    | Frequency | Normalized CDF (Rounded)      |\n",
    "| --------     | -------   | -------                       |\n",
    "| 52           | 1         | 0                             |\n",
    "| 55           | 3         | 85                            |\n",
    "| 59           | 1         | 113                           |\n",
    "| 61           | 1         | 141                           |\n",
    "| 62           | 1         | 170                           |\n",
    "| 65           | 1         | 198                           |\n",
    "| 68           | 1         | 226                           |"
   ]
  },
  {
   "cell_type": "markdown",
   "metadata": {},
   "source": [
    "4. Map the old pixel values to new values:\n",
    "\n",
    "- Use the normalized CDF to map each original pixel value to its new value.\n",
    "\n",
    "\\begin{bmatrix}\n",
    "0 & 85 & 141 \\\\\n",
    "113 & 85 & 170 \\\\\n",
    "85 & 170 & 226\n",
    "\\end{bmatrix}"
   ]
  },
  {
   "cell_type": "markdown",
   "metadata": {},
   "source": [
    "### Result"
   ]
  },
  {
   "cell_type": "markdown",
   "metadata": {},
   "source": [
    "![Gaussian Blur Output](../images/histogram_equilization_output.jpg)"
   ]
  }
 ],
 "metadata": {
  "kernelspec": {
   "display_name": "image",
   "language": "python",
   "name": "python3"
  },
  "language_info": {
   "codemirror_mode": {
    "name": "ipython",
    "version": 3
   },
   "file_extension": ".py",
   "mimetype": "text/x-python",
   "name": "python",
   "nbconvert_exporter": "python",
   "pygments_lexer": "ipython3",
   "version": "3.10.12"
  }
 },
 "nbformat": 4,
 "nbformat_minor": 2
}
